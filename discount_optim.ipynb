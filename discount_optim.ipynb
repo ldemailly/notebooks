{
  "cells": [
    {
      "cell_type": "code",
      "source": [
        "import pylab \n",
        "import numpy as np"
      ],
      "outputs": [],
      "execution_count": 1,
      "metadata": {
        "trusted": true,
        "execution": {
          "shell.execute_reply": "2021-09-04T23:56:51.451Z",
          "iopub.status.busy": "2021-09-04T23:56:51.201Z",
          "iopub.execute_input": "2021-09-04T23:56:51.205Z",
          "iopub.status.idle": "2021-09-04T23:56:51.443Z"
        }
      },
      "id": "a98630aa-454d-4c24-aac8-05e2821b1a82"
    },
    {
      "cell_type": "code",
      "source": [
        "import random\n",
        "random.seed(2) # same numbers each time while debugging\n",
        "arr = []\n",
        "start = 50\n",
        "fullprice= 0\n",
        "duration=60\n",
        "for i in range(0, duration):\n",
        "    start += random.randint(-10, 10)\n",
        "    fullprice+= start\n",
        "    arr.append(start)\n",
        "#print(arr)\n",
        "avgfullprice=fullprice/duration\n",
        "print(avgfullprice)\n",
        "pylab.axhline(avgfullprice, color='r')\n",
        "# raw data: utilization over time\n",
        "pylab.plot(arr)\n",
        "# sorted: lowest to highest utilization\n",
        "arr.sort()\n",
        "print(arr)\n",
        "pylab.plot(arr)\n",
        "# calculate extra price up to that point\n",
        "extra = [0]*(duration)\n",
        "prev = 0\n",
        "for i in range(duration-2, -1, -1):\n",
        "    width=duration-1-i\n",
        "    extra[i] = prev = prev + (arr[i+1]-arr[i])*width\n",
        "#    print(i,width,arr[i+1],arr[i], extra[i])\n",
        "nodiscount=extra[0]+arr[0]*duration\n",
        "print(extra)\n",
        "print(fullprice, nodiscount)"
      ],
      "outputs": [
        {
          "output_type": "stream",
          "name": "stdout",
          "text": [
            "47.916666666666664\n",
            "[18, 20, 21, 23, 23, 25, 25, 26, 26, 27, 29, 31, 31, 31, 32, 33, 36, 36, 37, 38, 39, 41, 41, 41, 44, 44, 45, 46, 47, 48, 49, 49, 50, 51, 51, 51, 53, 54, 54, 54, 55, 55, 57, 59, 59, 60, 60, 62, 63, 65, 68, 69, 69, 70, 71, 74, 75, 85, 88, 91]\n",
            "[1795, 1677, 1619, 1505, 1505, 1395, 1395, 1342, 1342, 1291, 1191, 1093, 1093, 1093, 1047, 1002, 870, 870, 828, 787, 747, 669, 669, 669, 561, 561, 527, 494, 462, 431, 401, 401, 373, 346, 346, 346, 298, 275, 275, 275, 255, 255, 219, 185, 185, 170, 170, 144, 132, 110, 80, 71, 71, 64, 58, 43, 39, 9, 3, 0]\n",
            "2875 2875\n"
          ]
        },
        {
          "output_type": "display_data",
          "data": {
            "text/plain": "<Figure size 432x288 with 1 Axes>",
            "image/png": "[encoded data removed]"
          },
          "metadata": {
            "needs_background": "light"
          }
        }
      ],
      "execution_count": 2,
      "metadata": {
        "trusted": true,
        "execution": {
          "shell.execute_reply": "2021-09-04T23:56:51.591Z",
          "iopub.status.busy": "2021-09-04T23:56:51.447Z",
          "iopub.execute_input": "2021-09-04T23:56:51.454Z",
          "iopub.status.idle": "2021-09-04T23:56:51.555Z"
        }
      },
      "id": "c2ad73d7-b534-453b-87c7-a39a900c472e"
    },
    {
      "cell_type": "code",
      "source": [
        "# plot swapped axis:\n",
        "# for a given utilization, number of points already covered/belowe that utilization\n",
        "data = {\"x\":[], \"y\":[]}\n",
        "for i in range(0, duration):\n",
        "    data[\"x\"].append(arr[i])\n",
        "    data[\"y\"].append(i)\n",
        "pylab.plot(data[\"x\"], data[\"y\"], '-p')\n",
        "pylab.axvline(avgfullprice, color='r')"
      ],
      "outputs": [
        {
          "output_type": "execute_result",
          "execution_count": 3,
          "data": {
            "text/plain": "<matplotlib.lines.Line2D at 0x11a9fabe0>"
          },
          "metadata": {}
        },
        {
          "output_type": "display_data",
          "data": {
            "text/plain": "<Figure size 432x288 with 1 Axes>",
            "image/png": "[encoded data removed]"
          },
          "metadata": {
            "needs_background": "light"
          }
        }
      ],
      "execution_count": 3,
      "metadata": {
        "trusted": true,
        "execution": {
          "shell.execute_reply": "2021-09-04T23:56:51.617Z",
          "iopub.status.busy": "2021-09-04T23:56:51.564Z",
          "iopub.execute_input": "2021-09-04T23:56:51.568Z",
          "iopub.status.idle": "2021-09-04T23:56:51.613Z"
        }
      },
      "id": "dda38735-bd2a-4dab-9af3-eb52dfd6555c"
    },
    {
      "cell_type": "code",
      "source": [
        "discountprice = .8\n",
        "\n",
        "min=arr[0]\n",
        "max=arr[duration-1]\n",
        "print(\"utilization varies from\", min, \"to\", max)\n",
        "\n",
        "# Note: as we are graphing all the prices; we obviously wouldn't\n",
        "# want to bisect and keep searching when we're actually just moving\n",
        "# from one point to the next in data[]\n",
        "# Next cell is doing incrementally\n",
        "\n",
        "from bisect import bisect_left\n",
        "\n",
        "def covered(level):\n",
        "    i = bisect_left(data[\"x\"], level)\n",
        "    if i != duration and data[\"x\"][i] == level:\n",
        "        return data[\"y\"][i]\n",
        "    else:\n",
        "        return -1\n",
        "\n",
        "def price(level):\n",
        "    reservedPrice = duration * discountprice * level\n",
        "    right = covered(level)\n",
        "    if right<0:\n",
        "      return\n",
        "    fullPrice = extra[right]\n",
        "    cost = reservedPrice+fullPrice\n",
        "    avgPrice = cost/duration\n",
        "    #print(right, reservedPrice/duration,fullPrice, avgPrice)\n",
        "    return right, avgPrice\n",
        "\n",
        "  \n",
        "data2 = {\"x\":[], \"y\":[]}\n",
        "\n",
        "minPrice = -1\n",
        "for i in range(min, max+1):\n",
        "  p = price(i)\n",
        "  if not p:\n",
        "    continue\n",
        "  lp = p[1]\n",
        "  print(i, p[0], lp)\n",
        "  data2[\"x\"].append(i)\n",
        "  data2[\"y\"].append(lp)\n",
        "  if minPrice == -1 or lp < minPrice:\n",
        "    minPrice = lp\n",
        "    level = i\n",
        "\n",
        "pylab.plot(data2[\"x\"], data2[\"y\"])\n",
        "pylab.axhline(minPrice, color='r')\n",
        "pylab.axhline(avgfullprice, color='orange')\n",
        "pylab.axvline(level, color='g')\n",
        "\n",
        "print(\"Lowest avg cost is\", minPrice, \"for level\", level, \"(full no discount was\", avgfullprice,\")\")\n"
      ],
      "outputs": [
        {
          "output_type": "stream",
          "name": "stdout",
          "text": [
            "utilization varies from 18 to 91\n",
            "18 0 44.31666666666667\n",
            "20 1 43.95\n",
            "21 2 43.78333333333333\n",
            "23 3 43.483333333333334\n",
            "25 5 43.25\n",
            "26 7 43.166666666666664\n",
            "27 9 43.11666666666667\n",
            "29 10 43.05\n",
            "31 11 43.016666666666666\n",
            "32 14 43.05\n",
            "33 15 43.1\n",
            "36 16 43.3\n",
            "37 18 43.4\n",
            "38 19 43.516666666666666\n",
            "39 20 43.65\n",
            "41 21 43.95\n",
            "44 24 44.55\n",
            "45 26 44.78333333333333\n",
            "46 27 45.03333333333333\n",
            "47 28 45.3\n",
            "48 29 45.583333333333336\n",
            "49 30 45.88333333333333\n",
            "50 32 46.21666666666667\n",
            "51 33 46.56666666666667\n",
            "53 36 47.36666666666667\n",
            "54 37 47.78333333333333\n",
            "55 40 48.25\n",
            "57 42 49.25\n",
            "59 43 50.28333333333333\n",
            "60 45 50.833333333333336\n",
            "62 47 52.0\n",
            "63 48 52.6\n",
            "65 49 53.833333333333336\n",
            "68 50 55.733333333333334\n",
            "69 51 56.38333333333333\n",
            "70 53 57.06666666666667\n",
            "71 54 57.766666666666666\n",
            "74 55 59.916666666666664\n",
            "75 56 60.65\n",
            "85 57 68.15\n",
            "88 58 70.45\n",
            "91 59 72.8\n",
            "Lowest avg cost is 43.016666666666666 for level 31 (full no discount was 47.916666666666664 )\n"
          ]
        },
        {
          "output_type": "display_data",
          "data": {
            "text/plain": "<Figure size 432x288 with 1 Axes>",
            "image/png": "[encoded data removed]"
          },
          "metadata": {
            "needs_background": "light"
          }
        }
      ],
      "execution_count": 4,
      "metadata": {
        "trusted": true,
        "execution": {
          "shell.execute_reply": "2021-09-04T23:56:51.741Z",
          "iopub.status.busy": "2021-09-04T23:56:51.639Z",
          "iopub.execute_input": "2021-09-04T23:56:51.653Z",
          "iopub.status.idle": "2021-09-04T23:56:51.737Z"
        }
      },
      "id": "5dd97774-1dba-4eed-b0ff-14b633c7ef9a"
    },
    {
      "cell_type": "code",
      "source": [
        "data3 = {\"x\":[], \"y\":[]}\n",
        "\n",
        "minPrice = -1\n",
        "i=0\n",
        "for level in arr:\n",
        "    reservedPrice = duration * discountprice * level\n",
        "    restOfPrice = extra[i]\n",
        "    i+=1\n",
        "    lp = (reservedPrice + restOfPrice ) / duration\n",
        "    data3[\"x\"].append(level)\n",
        "    data3[\"y\"].append(lp)\n",
        "    if minPrice == -1 or lp < minPrice:\n",
        "      minPrice = lp\n",
        "      minLevel = level\n",
        "\n",
        "pylab.plot(data3[\"x\"], data3[\"y\"])\n",
        "pylab.axhline(minPrice, color='r')\n",
        "pylab.axhline(avgfullprice, color='orange')\n",
        "pylab.axvline(minLevel, color='g')\n",
        "\n",
        "print(\"Lowest avg cost is\", minPrice, \"for level\", minLevel, \"(full no discount was\", avgfullprice,\")\")\n"
      ],
      "outputs": [
        {
          "output_type": "stream",
          "name": "stdout",
          "text": [
            "Lowest avg cost is 43.016666666666666 for level 31 (full no discount was 47.916666666666664 )\n"
          ]
        },
        {
          "output_type": "display_data",
          "data": {
            "text/plain": "<Figure size 432x288 with 1 Axes>",
            "image/png": "[encoded data removed]"
          },
          "metadata": {
            "needs_background": "light"
          }
        }
      ],
      "execution_count": 8,
      "metadata": {
        "collapsed": true,
        "jupyter": {
          "source_hidden": false,
          "outputs_hidden": false
        },
        "nteract": {
          "transient": {
            "deleting": false
          }
        },
        "execution": {
          "iopub.status.busy": "2021-09-05T00:03:49.099Z",
          "iopub.execute_input": "2021-09-05T00:03:49.116Z",
          "iopub.status.idle": "2021-09-05T00:03:49.180Z",
          "shell.execute_reply": "2021-09-05T00:03:49.193Z"
        }
      },
      "id": "82ee76d7-368f-442d-9d90-8ad4e1535338"
    }
  ],
  "metadata": {
    "kernelspec": {
      "display_name": "Python 3",
      "language": "python",
      "name": "python3"
    },
    "language_info": {
      "name": "python",
      "version": "3.9.6",
      "mimetype": "text/x-python",
      "codemirror_mode": {
        "name": "ipython",
        "version": 3
      },
      "pygments_lexer": "ipython3",
      "nbconvert_exporter": "python",
      "file_extension": ".py"
    },
    "nteract": {
      "version": "0.28.0"
    }
  },
  "nbformat": 4,
  "nbformat_minor": 5
}